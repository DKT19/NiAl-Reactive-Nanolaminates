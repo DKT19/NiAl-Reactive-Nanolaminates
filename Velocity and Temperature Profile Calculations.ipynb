{
 "cells": [
  {
   "cell_type": "code",
   "execution_count": 1,
   "metadata": {},
   "outputs": [],
   "source": [
    "import matplotlib.pyplot as plt\n",
    "import numpy as np\n",
    "import statistics\n",
    "import sys\n",
    "import os"
   ]
  },
  {
   "cell_type": "code",
   "execution_count": 2,
   "metadata": {},
   "outputs": [],
   "source": [
    "def batch_gen():\n",
    "    with open(file_path) as f:\n",
    "        for index, line in enumerate(f):\n",
    "            yield index, line"
   ]
  },
  {
   "cell_type": "code",
   "execution_count": 3,
   "metadata": {},
   "outputs": [],
   "source": [
    "def correct_timestep(ti):\n",
    "    new_ti = list()\n",
    "    for i in range(0, len(ti)):\n",
    "        new_ti.append(ti[i] - (9*i))\n",
    "    return new_ti"
   ]
  },
  {
   "cell_type": "code",
   "execution_count": 4,
   "metadata": {},
   "outputs": [],
   "source": [
    "def min_ip(inflection_points):\n",
    "    remove_list = list()\n",
    "    for ip in range(0, len(inflection_points)):\n",
    "        if inflection_points[ip] < 0:\n",
    "            remove_list.append(ip)\n",
    "    if not remove_list:\n",
    "        ip_pos = inflection_points\n",
    "    else:\n",
    "        remove_arr = np.asarray(remove_list)\n",
    "        ip_pos = np.delete(inflection_points, remove_arr)\n",
    "    return min(ip_pos)"
   ]
  },
  {
   "cell_type": "code",
   "execution_count": 5,
   "metadata": {},
   "outputs": [],
   "source": [
    "def find_values(x_data, ip):\n",
    "    index = (np.abs(x_data-ip)).argmin()\n",
    "    return np.unique(x_data[index])"
   ]
  },
  {
   "cell_type": "code",
   "execution_count": 6,
   "metadata": {},
   "outputs": [],
   "source": [
    "def find_index(x_data, ip):\n",
    "    index = (np.abs(x_data-ip)).argmin()\n",
    "    return index"
   ]
  },
  {
   "cell_type": "code",
   "execution_count": 7,
   "metadata": {},
   "outputs": [],
   "source": [
    "def make_array(array):\n",
    "    new_list = list()\n",
    "    for arr_sel in range(0, len(array)):\n",
    "        new_list.append(array[arr_sel][0])\n",
    "    new_arr = np.asarray(new_list)\n",
    "    return new_arr"
   ]
  },
  {
   "cell_type": "code",
   "execution_count": 8,
   "metadata": {},
   "outputs": [],
   "source": [
    "def return_slope(x, y):\n",
    "    m = (((statistics.mean(x)*statistics.mean(y)) - statistics.mean(x*y))/((statistics.mean(x)*statistics.mean(x)) - statistics.mean(x*x)))\n",
    "    return m"
   ]
  },
  {
   "cell_type": "code",
   "execution_count": 9,
   "metadata": {},
   "outputs": [
    {
     "name": "stdout",
     "output_type": "stream",
     "text": [
      "Enter number of bins: 250\n"
     ]
    }
   ],
   "source": [
    "while True:\n",
    "    try:\n",
    "        n_bins = int(input('Enter number of bins: '))\n",
    "    except ValueError:\n",
    "        print('Enter a positive whole number')\n",
    "    if n_bins <= 0:\n",
    "        print('Enter a positive whole number')\n",
    "        continue\n",
    "    else:\n",
    "        break"
   ]
  },
  {
   "cell_type": "code",
   "execution_count": 10,
   "metadata": {},
   "outputs": [],
   "source": [
    "folder_path = r'C:/Users/krist/Research/'\n",
    "file = 'dump.baras_restart_reaction_15.9nm_1.34'\n",
    "file_path = os.path.join(folder_path, file)"
   ]
  },
  {
   "cell_type": "code",
   "execution_count": 11,
   "metadata": {},
   "outputs": [],
   "source": [
    "timestep_index = list()\n",
    "x_data = list()\n",
    "y_data = list()\n",
    "z_data = list()\n",
    "c_ke = list()\n",
    "skip = 0\n",
    "x = 0\n",
    "\n",
    "instance = batch_gen()\n",
    "while True:\n",
    "    try:\n",
    "        content = [next(instance) for i in range(0, 100)]\n",
    "    except:\n",
    "        break\n",
    "    for line in range(0, len(content)):\n",
    "        if skip != 0:\n",
    "            skip = skip - 1\n",
    "            continue\n",
    "        if 'TIMESTEP' in str(content[line][1]):\n",
    "            timestep_index.append(content[line][0])\n",
    "            skip = 1\n",
    "            continue\n",
    "        elif 'NUMBER OF ATOMS' in str(content[line][1]):\n",
    "            skip = 1\n",
    "            continue\n",
    "        elif 'BOX BOUNDS' in str(content[line][1]):\n",
    "            skip = 3\n",
    "            continue\n",
    "        elif 'ITEM: ATOMS' in str(content[line][1]):\n",
    "            continue\n",
    "        else:\n",
    "            data_strip = content[line][1].strip('\\n')\n",
    "            cat_split = data_strip.split()\n",
    "            x_data.append(float(cat_split[2]))\n",
    "            #y_data.append(float(cat_split[3]))\n",
    "            #z_data.append(float(cat_split[4]))\n",
    "            c_ke.append(float(cat_split[5]))\n",
    "            content.append(data_strip)"
   ]
  },
  {
   "cell_type": "code",
   "execution_count": 12,
   "metadata": {},
   "outputs": [],
   "source": [
    "correct_ti = correct_timestep(timestep_index)"
   ]
  },
  {
   "cell_type": "code",
   "execution_count": 13,
   "metadata": {},
   "outputs": [],
   "source": [
    "min_x = list()\n",
    "max_x = list()\n",
    "for i in range(0, len(correct_ti)):\n",
    "    if i == len(correct_ti) - 1:\n",
    "        min_x.append(min(x_data[correct_ti[i]:]))\n",
    "        max_x.append(max(x_data[correct_ti[i]:]))\n",
    "    else:\n",
    "        min_x.append(min(x_data[correct_ti[i]:correct_ti[i+1]]))\n",
    "        max_x.append(max(x_data[correct_ti[i]:correct_ti[i+1]]))"
   ]
  },
  {
   "cell_type": "code",
   "execution_count": 14,
   "metadata": {},
   "outputs": [],
   "source": [
    "x_arr = np.asarray(x_data)\n",
    "temp_arr = np.asarray(c_ke)\n",
    "data_arr = np.column_stack((x_arr, c_ke))"
   ]
  },
  {
   "cell_type": "code",
   "execution_count": 15,
   "metadata": {},
   "outputs": [],
   "source": [
    "x_bin_arr = np.zeros((n_bins, 8), dtype = float)\n",
    "temp_bin_arr = np.zeros((n_bins, 8), dtype = float)\n",
    "final_values = list()\n",
    "x_select_list = list()\n",
    "temp_select_list = list()\n",
    "row = -1\n",
    "\n",
    "for i in range(5, 20, 2): #len(correct_ti)):\n",
    "    row = row + 1\n",
    "    total_length = max_x[i] - min_x[i]\n",
    "    bin_length = total_length/n_bins\n",
    "    correct_data_arr = data_arr[correct_ti[i]:correct_ti[i+1]]\n",
    "    data_sort_arr = correct_data_arr[correct_data_arr[:, 0].argsort()]\n",
    "    for binning in range(0, n_bins):\n",
    "        high = find_index(data_sort_arr[:, 0], (binning + 1)*bin_length + min_x[i])\n",
    "        low = find_index(data_sort_arr[:, 0], (binning*bin_length) + min_x[i])\n",
    "        for select_points in data_sort_arr[low:high]:\n",
    "            x_select_list.append(select_points[0])\n",
    "            temp_select_list.append(select_points[1])\n",
    "        \n",
    "        avg_x = statistics.mean(x_select_list)\n",
    "        avg_temp = statistics.mean(temp_select_list)\n",
    "        x_bin_arr[binning, row] = avg_x\n",
    "        temp_bin_arr[binning, row] = avg_temp\n",
    "        x_select_list.clear()\n",
    "        temp_select_list.clear()\n",
    "\n",
    "    coefs = np.polyfit(x_bin_arr[:, row], temp_bin_arr[:, row], 5)\n",
    "    x_bin_arr_fit = np.linspace(x_bin_arr[0, row], x_bin_arr[-1, row], len(x_bin_arr[:, row]))\n",
    "    poly_fit = np.polyval(coefs, x_bin_arr_fit)\n",
    "    #plt.plot(x_bin_arr_fit, poly_fit)\n",
    "\n",
    "    poly_fit_d2 = np.polyder(coefs, 2)\n",
    "    x_bin_arr_fit2 = np.linspace(x_bin_arr[0, row], x_bin_arr[-1, row], len(x_bin_arr[:, row]))\n",
    "    poly_fit2 = np.polynomial.polynomial.polyval(x_bin_arr_fit2, poly_fit_d2)\n",
    "    #plt.plot(x_bin_arr_fit2, poly_fit2)\n",
    "    inflection_points = np.roots(poly_fit_d2)\n",
    "\n",
    "    lowest_ip = min_ip(inflection_points)\n",
    "    final_values.append(find_values(x_bin_arr[:, row], lowest_ip))"
   ]
  },
  {
   "cell_type": "code",
   "execution_count": 16,
   "metadata": {},
   "outputs": [
    {
     "data": {
      "image/png": "[encoded data removed]",
      "text/plain": [
       "<Figure size 432x288 with 1 Axes>"
      ]
     },
     "metadata": {
      "needs_background": "light"
     },
     "output_type": "display_data"
    }
   ],
   "source": [
    "for plot_row in range(0, row):\n",
    "    KEvPos = plt.figure(1)\n",
    "    plt.plot(x_bin_arr[:, plot_row], temp_bin_arr[:, plot_row], marker = 'o', ms = 5, color = \"bkrgycmbkrgycmbkrgycm\"[plot_row])"
   ]
  },
  {
   "cell_type": "code",
   "execution_count": 17,
   "metadata": {},
   "outputs": [],
   "source": [
    "final_values_arr = make_array(final_values)"
   ]
  },
  {
   "cell_type": "code",
   "execution_count": 18,
   "metadata": {},
   "outputs": [],
   "source": [
    "time = np.asarray([1.0, 1.4, 1.8, 2.2, 2.6, 3.0, 3.4, 3.8]) #ns"
   ]
  },
  {
   "cell_type": "code",
   "execution_count": 19,
   "metadata": {},
   "outputs": [
    {
     "name": "stdout",
     "output_type": "stream",
     "text": [
      "The velocity in angstroms per nanosecond is: 147.7056556710766\n"
     ]
    },
    {
     "data": {
      "image/png": "[encoded data removed]",
      "text/plain": [
       "<Figure size 432x288 with 1 Axes>"
      ]
     },
     "metadata": {
      "needs_background": "light"
     },
     "output_type": "display_data"
    }
   ],
   "source": [
    "for row2 in range(0, len(final_values)):\n",
    "    VelPlt = plt.figure(2)\n",
    "    plt.plot(time[row2], final_values[row2], marker = 'o', ms = 5, color = \"b\")\n",
    "\n",
    "m = return_slope(time, final_values_arr)\n",
    "print('The velocity in angstroms per nanosecond is: {}'.format(m))"
   ]
  }
 ],
 "metadata": {
  "kernelspec": {
   "display_name": "Python 3.7 (datascience)",
   "language": "python",
   "name": "datascience"
  },
  "language_info": {
   "codemirror_mode": {
    "name": "ipython",
    "version": 3
   },
   "file_extension": ".py",
   "mimetype": "text/x-python",
   "name": "python",
   "nbconvert_exporter": "python",
   "pygments_lexer": "ipython3",
   "version": "3.7.3"
  }
 },
 "nbformat": 4,
 "nbformat_minor": 2
}
